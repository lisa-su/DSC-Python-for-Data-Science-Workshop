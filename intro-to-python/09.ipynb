{
 "cells": [
  {
   "cell_type": "markdown",
   "metadata": {},
   "source": [
    "# Integer & Linear Programming\n",
    "\n",
    "## An example\n",
    "\n"
   ]
  },
  {
   "cell_type": "markdown",
   "metadata": {},
   "source": [
    "Setting up data: cost matrix, demand, supply"
   ]
  },
  {
   "cell_type": "code",
   "execution_count": null,
   "metadata": {},
   "outputs": [],
   "source": [
    "F = range(2) # 2 factories\n",
    "R = range(12) # 12 retailers\n",
    "C = [[1,2,2,1,3,4,5,7,5,2,3,2],\n",
    "    [4,5,5,4,1,3,1,2,1,2,4,6]]\n",
    "demand = [9,4,2,6,4,5,7,8,3,6,9,5]\n",
    "print('Total demand =',sum(demand))\n",
    "supply = [ 34, 45]"
   ]
  },
  {
   "cell_type": "markdown",
   "metadata": {},
   "source": [
    "Now we can define a linear program \n",
    "$$\\min \\sum_{i\\in F}\\sum_{j\\in R} c_{ij} x_{ij}$$\n",
    "Subject To\n",
    "$$\\sum_{r\\in R} x_{fr} \\le s_r\\quad\\forall f\\in F$$\n",
    "$$\\sum_{f\\in F} x_{fr} = d_f\\quad\\forall r\\in R$$\n",
    "$$x \\ge 0$$"
   ]
  },
  {
   "cell_type": "code",
   "execution_count": null,
   "metadata": {},
   "outputs": [],
   "source": [
    "from mymip.mycplex import Model\n",
    "\n",
    "lp = Model()\n",
    "# define double indexed variables and give them a meaningful names\n",
    "x = [ [lp.variable('x%dto%d'%(i,j)) for j in R] \n",
    "     for i in F ]\n",
    "\n",
    "lp.min( sum( C[i][j] * x[i][j] for i in F for j in R))\n",
    "# constraints can be given names too:\n",
    "lp.SubjectTo({\"Supply%d\"%f:   sum(x[f][r] for r in R) <= supply[f]   for f in F})\n",
    "lp.SubjectTo((\"Demand%02d\"%r, sum(x[f][r] for f in F) == demand[r] ) for r in R)\n",
    "for f in F: \n",
    "    for r in R: x[f][r] >= 0   # all variables non-negative\n",
    "lp.param[\"SCRIND\"]=1    # set parameter to show CPLEX output \n",
    "lp.optimise()\n",
    "\n",
    "print(\"The minimum cost is\",lp.objective())\n",
    "for r in R:\n",
    "    for f in F:\n",
    "        if x[f][r].x > 0: # amount is not zero\n",
    "            print(\"%.1f from F%d to R%02d\"%(x[f][r].x,f,r))"
   ]
  },
  {
   "cell_type": "markdown",
   "metadata": {
    "collapsed": true
   },
   "source": [
    "To see how the solve sees this problem, try writing it out to file and printing the contents of the file:"
   ]
  },
  {
   "cell_type": "code",
   "execution_count": null,
   "metadata": {},
   "outputs": [],
   "source": [
    "lp.write(\"myfirst.lp\")\n",
    "print(open(\"myfirst.lp\",\"r\").read())"
   ]
  },
  {
   "cell_type": "markdown",
   "metadata": {
    "collapsed": true
   },
   "source": [
    "## Advanced Usage\n",
    "All of the raw CPLEX callable library functions as per the can be accessed if required using C interface (see [IBM's CPLEX documentation](http://www.ibm.com/support/knowledgecenter/SSSA5P_12.6.2/ilog.odms.cplex.help/refcallablelibrary/groups/homepagecallable.html)) can be accessed by using the `cplex` object. \n",
    "\n",
    "For example to identify a minimal conflict set leading to infeasiblity of the problem we can use the [CPXrefineconflict](http://www.ibm.com/support/knowledgecenter/SSSA5P_12.6.2/ilog.odms.cplex.help/refcallablelibrary/cpxapi/refineconflict.html) and write out the conflict set using [CPXclpwrite](http://www.ibm.com/support/knowledgecenter/en/SSSA5P_12.6.2/ilog.odms.cplex.help/refcallablelibrary/cpxapi/clpwrite.html)"
   ]
  },
  {
   "cell_type": "code",
   "execution_count": null,
   "metadata": {},
   "outputs": [],
   "source": [
    "from mymip.mycplex import cplex\n",
    "lp.SubjectTo(x[0][0]+x[1][1] >= 50) # make it infeasible\n",
    "lp.optimise() # error!\n",
    "cplex.CPXrefineconflict(lp.Env,lp.LP,0,0) # 2 null pointers\n",
    "cplex.CPXclpwrite(lp.Env,lp.LP,b\"conflict.lp\") # note binary (ascii) string\n",
    "print(\"#\"*10,\"Conflict LP\",\"#\"*10)\n",
    "print(open(\"conflict.lp\",\"r\").read())"
   ]
  }
 ],
 "metadata": {
  "kernelspec": {
   "display_name": "Python 3",
   "language": "python",
   "name": "python3"
  },
  "language_info": {
   "codemirror_mode": {
    "name": "ipython",
    "version": 3
   },
   "file_extension": ".py",
   "mimetype": "text/x-python",
   "name": "python",
   "nbconvert_exporter": "python",
   "pygments_lexer": "ipython3",
   "version": "3.7.3"
  }
 },
 "nbformat": 4,
 "nbformat_minor": 1
}
